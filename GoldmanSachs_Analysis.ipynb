{
 "cells": [
  {
   "cell_type": "code",
   "execution_count": 1,
   "id": "dbeb6b2d-af53-4268-b3b6-9613e465a951",
   "metadata": {},
   "outputs": [
    {
     "name": "stderr",
     "output_type": "stream",
     "text": [
      "Matplotlib is building the font cache; this may take a moment.\n"
     ]
    }
   ],
   "source": [
    "import pandas as pd\n",
    "import matplotlib.pyplot as plt "
   ]
  },
  {
   "cell_type": "code",
   "execution_count": 3,
   "id": "a33b570a-fecf-4aba-9e43-8e3a84f41bad",
   "metadata": {},
   "outputs": [
    {
     "name": "stdout",
     "output_type": "stream",
     "text": [
      "         Date     Open     High     Low    Close  Adj Close   Volume\n",
      "0  2000-01-03  94.1875  94.3750  87.750  88.3125  65.690536  1822600\n",
      "1  2000-01-04  87.0000  87.5000  82.250  82.7500  61.552921  1647700\n",
      "2  2000-01-05  80.8750  81.8750  78.375  78.8750  58.670509  1516600\n",
      "3  2000-01-06  78.6250  84.5000  78.625  82.2500  61.180992  1845100\n",
      "4  2000-01-07  83.0625  83.1875  79.875  82.5625  61.413429  1127400\n"
     ]
    }
   ],
   "source": [
    "# Loading the dataset into a DataFrame\n",
    "\n",
    "df = pd.read_csv(\"The Goldman Sachs.csv\") \n",
    "\n",
    "print(df.head())\n"
   ]
  },
  {
   "cell_type": "code",
   "execution_count": 4,
   "id": "3d9f566d-893a-4ac1-b0c8-a6be7cefaabf",
   "metadata": {},
   "outputs": [
    {
     "name": "stdout",
     "output_type": "stream",
     "text": [
      "              Open         High          Low        Close    Adj Close  \\\n",
      "count  5863.000000  5863.000000  5863.000000  5863.000000  5863.000000   \n",
      "mean    171.307751   173.358368   169.242244   171.330473   148.188140   \n",
      "std      77.553852    78.189664    76.870323    77.537132    79.743282   \n",
      "min      54.000000    54.540001    47.410000    52.000000    41.506359   \n",
      "25%     105.694999   107.090000   104.209999   105.720001    82.460209   \n",
      "50%     162.199997   163.979996   160.539993   162.300003   135.398071   \n",
      "75%     208.620002   210.675003   206.190002   208.434998   182.193649   \n",
      "max     423.119995   426.160004   413.760010   423.850006   407.866791   \n",
      "\n",
      "             Volume  \n",
      "count  5.863000e+03  \n",
      "mean   5.257445e+06  \n",
      "std    6.011657e+06  \n",
      "min    3.971000e+05  \n",
      "25%    2.495800e+06  \n",
      "50%    3.521300e+06  \n",
      "75%    5.526250e+06  \n",
      "max    1.145907e+08  \n"
     ]
    }
   ],
   "source": [
    "# Checking the summary statistics of the dataset\n",
    "\n",
    "print(df.describe())"
   ]
  },
  {
   "cell_type": "code",
   "execution_count": null,
   "id": "d8046e42-2c29-44b4-b760-c86e4027d7c5",
   "metadata": {},
   "outputs": [
    {
     "name": "stdout",
     "output_type": "stream",
     "text": [
      "Date         0\n",
      "Open         0\n",
      "High         0\n",
      "Low          0\n",
      "Close        0\n",
      "Adj Close    0\n",
      "Volume       0\n",
      "dtype: int64\n"
     ]
    }
   ],
   "source": [
    "# Checking the number of missing values in each column\n",
    "\n",
    "print(df.isnull().sum())"
   ]
  },
  {
   "cell_type": "code",
   "execution_count": 14,
   "id": "66f036ab-980a-40b4-8db0-557a664fc4fb",
   "metadata": {},
   "outputs": [
    {
     "name": "stdout",
     "output_type": "stream",
     "text": [
      "         Date     Open     High     Low    Close  Adj Close   Volume  \\\n",
      "0  2000-01-03  94.1875  94.3750  87.750  88.3125  65.690536  1822600   \n",
      "1  2000-01-04  87.0000  87.5000  82.250  82.7500  61.552921  1647700   \n",
      "2  2000-01-05  80.8750  81.8750  78.375  78.8750  58.670509  1516600   \n",
      "3  2000-01-06  78.6250  84.5000  78.625  82.2500  61.180992  1845100   \n",
      "4  2000-01-07  83.0625  83.1875  79.875  82.5625  61.413429  1127400   \n",
      "\n",
      "   price_change  \n",
      "0        -5.875  \n",
      "1        -4.250  \n",
      "2        -2.000  \n",
      "3         3.625  \n",
      "4        -0.500  \n"
     ]
    }
   ],
   "source": [
    "# Calculating the daily price change\n",
    "\n",
    "df[\"price_change\"] = df[\"Close\"] - df[\"Open\"]\n",
    "print(df.head())\n"
   ]
  },
  {
   "cell_type": "code",
   "execution_count": 16,
   "id": "8f2b964d-f33f-452d-8303-d1ffd4778e36",
   "metadata": {},
   "outputs": [
    {
     "name": "stdout",
     "output_type": "stream",
     "text": [
      "            Date   Open   High        Low  Close  Adj Close     Volume  \\\n",
      "2190  2008-09-18  106.0  120.0  86.309998  108.0  85.943291  114590700   \n",
      "\n",
      "      price_change  \n",
      "2190           2.0  \n"
     ]
    }
   ],
   "source": [
    "# Finding the days with the highest trading volume\n",
    "\n",
    "max_volume_days = df[df[\"Volume\"] == df[\"Volume\"].max()]\n",
    "print(max_volume_days)"
   ]
  },
  {
   "cell_type": "code",
   "execution_count": 18,
   "id": "344c11aa-7db4-4051-9b58-3552945660ad",
   "metadata": {},
   "outputs": [
    {
     "name": "stdout",
     "output_type": "stream",
     "text": [
      "Maximum Closing Price: 423.850006\n"
     ]
    }
   ],
   "source": [
    "# Calculating the maximum closing price\n",
    "\n",
    "max_closing_price = df[\"Close\"].max()\n",
    "print(\"Maximum Closing Price:\", max_closing_price)"
   ]
  },
  {
   "cell_type": "code",
   "execution_count": 20,
   "id": "d3ef394f-dec9-4d26-8851-fcd7251eb771",
   "metadata": {},
   "outputs": [
    {
     "data": {
      "image/png": "[encoded data removed]",
      "text/plain": [
       "<Figure size 432x288 with 1 Axes>"
      ]
     },
     "metadata": {
      "needs_background": "light"
     },
     "output_type": "display_data"
    }
   ],
   "source": [
    "# Ploting the closing prices over time\n",
    "\n",
    "plt.plot(df[\"Date\"], df[\"Close\"])\n",
    "plt.xlabel(\"Date\")\n",
    "plt.ylabel(\"Closing Price\")\n",
    "plt.title(\"Goldman Sachs Stock Prices Over Time\")\n",
    "plt.xticks(rotation=45)\n",
    "plt.show()"
   ]
  },
  {
   "cell_type": "code",
   "execution_count": 21,
   "id": "5d8f7b87-583a-4765-aa15-26a84f37c767",
   "metadata": {},
   "outputs": [
    {
     "name": "stdout",
     "output_type": "stream",
     "text": [
      "Year\n",
      "2000    1.846154e+06\n",
      "2001    3.064123e+06\n",
      "2002    4.467325e+06\n",
      "2003    3.901063e+06\n",
      "2004    3.605563e+06\n",
      "2005    3.759582e+06\n",
      "2006    4.653116e+06\n",
      "2007    9.618481e+06\n",
      "2008    1.677554e+07\n",
      "2009    1.589128e+07\n",
      "2010    1.091655e+07\n",
      "2011    6.717975e+06\n",
      "2012    5.120835e+06\n",
      "2013    3.595223e+06\n",
      "2014    2.924638e+06\n",
      "2015    2.790862e+06\n",
      "2016    3.744334e+06\n",
      "2017    3.239078e+06\n",
      "2018    3.383131e+06\n",
      "2019    2.578574e+06\n",
      "2020    3.589678e+06\n",
      "2021    2.737287e+06\n",
      "2022    2.626919e+06\n",
      "2023    2.896507e+06\n",
      "Name: Volume, dtype: float64\n"
     ]
    }
   ],
   "source": [
    "# Extracting the year from the date column\n",
    "\n",
    "df[\"Year\"] = pd.to_datetime(df[\"Date\"]).dt.year\n",
    "\n",
    "# Calculating the average daily trading volume per year\n",
    "\n",
    "average_volume_per_year = df.groupby(\"Year\")[\"Volume\"].mean()\n",
    "print(average_volume_per_year)"
   ]
  },
  {
   "cell_type": "code",
   "execution_count": 23,
   "id": "cf3fbc9c-3557-4ff1-add6-a7c248685317",
   "metadata": {},
   "outputs": [
    {
     "name": "stdout",
     "output_type": "stream",
     "text": [
      "               Open      High       Low     Close  Adj Close    Volume\n",
      "Open       1.000000  0.999668  0.999589  0.999275   0.993909 -0.166318\n",
      "High       0.999668  1.000000  0.999440  0.999639   0.994310 -0.158763\n",
      "Low        0.999589  0.999440  1.000000  0.999638   0.994177 -0.177577\n",
      "Close      0.999275  0.999639  0.999638  1.000000   0.994579 -0.167703\n",
      "Adj Close  0.993909  0.994310  0.994177  0.994579   1.000000 -0.184403\n",
      "Volume    -0.166318 -0.158763 -0.177577 -0.167703  -0.184403  1.000000\n"
     ]
    }
   ],
   "source": [
    "# Calculating the correlation matrix\n",
    "\n",
    "correlation_matrix = df[[\"Open\", \"High\", \"Low\", \"Close\", \"Adj Close\", \"Volume\"]].corr()\n",
    "print(correlation_matrix)"
   ]
  },
  {
   "cell_type": "code",
   "execution_count": 24,
   "id": "95448efd-b88a-4b2e-ad36-257a3572a314",
   "metadata": {},
   "outputs": [
    {
     "name": "stdout",
     "output_type": "stream",
     "text": [
      "            Date        Open        High    Low       Close   Adj Close  \\\n",
      "2191  2008-09-19  142.509995  144.979996  116.0  129.800003  103.291092   \n",
      "\n",
      "        Volume  price_change  Year  price_gap  \n",
      "2191  43208300    -12.709992  2008  34.509995  \n"
     ]
    }
   ],
   "source": [
    "# Finding the days with the largest price gap between the open and previous close\n",
    "# Calculating the price gap\n",
    "df['price_gap'] = df['Open'] - df['Close'].shift(1)\n",
    "largest_price_gap_days = df[df['price_gap'] == df['price_gap'].max()]\n",
    "print(largest_price_gap_days)\n"
   ]
  },
  {
   "cell_type": "code",
   "execution_count": 25,
   "id": "b88254fe-da5f-423b-b64a-e9db8c23c1a8",
   "metadata": {},
   "outputs": [
    {
     "data": {
      "image/png": "[encoded data removed]",
      "text/plain": [
       "<Figure size 432x288 with 1 Axes>"
      ]
     },
     "metadata": {
      "needs_background": "light"
     },
     "output_type": "display_data"
    }
   ],
   "source": [
    "# Calculating the daily returns\n",
    "df['returns'] = df['Close'].pct_change()\n",
    "\n",
    "# Plot the histogram of daily returns\n",
    "df['returns'].hist(bins=30)\n",
    "plt.xlabel('Daily Returns')\n",
    "plt.ylabel('Frequency')\n",
    "plt.title('Distribution of Daily Returns')\n",
    "plt.show()"
   ]
  },
  {
   "cell_type": "code",
   "execution_count": null,
   "id": "3f7fe388-bf40-4542-9502-180d82fc5723",
   "metadata": {},
   "outputs": [],
   "source": []
  }
 ],
 "metadata": {
  "kernelspec": {
   "display_name": "anaconda-2022.05-py39",
   "language": "python",
   "name": "conda-env-anaconda-2022.05-py39-py"
  },
  "language_info": {
   "codemirror_mode": {
    "name": "ipython",
    "version": 3
   },
   "file_extension": ".py",
   "mimetype": "text/x-python",
   "name": "python",
   "nbconvert_exporter": "python",
   "pygments_lexer": "ipython3",
   "version": "3.9.12"
  }
 },
 "nbformat": 4,
 "nbformat_minor": 5
}
